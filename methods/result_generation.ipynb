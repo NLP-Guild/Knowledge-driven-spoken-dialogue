{
  "nbformat": 4,
  "nbformat_minor": 0,
  "metadata": {
    "colab": {
      "name": "result generation.ipynb",
      "provenance": [],
      "authorship_tag": "ABX9TyMDR0bNp5UleAA9XjHtLXzP",
      "include_colab_link": true
    },
    "kernelspec": {
      "name": "python3",
      "display_name": "Python 3"
    },
    "language_info": {
      "name": "python"
    },
    "accelerator": "GPU",
    "gpuClass": "standard"
  },
  "cells": [
    {
      "cell_type": "markdown",
      "metadata": {
        "id": "view-in-github",
        "colab_type": "text"
      },
      "source": [
        "<a href=\"https://colab.research.google.com/github/leoxiang66/Knowledge-driven-spoken-dialogue/blob/main/result_generation.ipynb\" target=\"_parent\"><img src=\"https://colab.research.google.com/assets/colab-badge.svg\" alt=\"Open In Colab\"/></a>"
      ]
    },
    {
      "cell_type": "code",
      "execution_count": null,
      "metadata": {
        "id": "H-4sVlqgOVSX"
      },
      "outputs": [],
      "source": [
        "!pip install transformers datasets"
      ]
    },
    {
      "cell_type": "code",
      "source": [
        "!git lfs install\n",
        "!git clone https://huggingface.co/datasets/Adapting/2022-GLOBAL-AI-CHALLENGE"
      ],
      "metadata": {
        "id": "NMLAMSH3QS8S"
      },
      "execution_count": null,
      "outputs": []
    },
    {
      "cell_type": "code",
      "source": [
        "import json\n",
        "\n",
        "with open('/content/2022-GLOBAL-AI-CHALLENGE/test.json', 'r') as f:\n",
        "  data = json.load(f)\n",
        "\n",
        "# Output: {'name': 'Bob', 'languages': ['English', 'French']}\n",
        "print(data)"
      ],
      "metadata": {
        "id": "-jv-HP0RQZqi"
      },
      "execution_count": null,
      "outputs": []
    },
    {
      "cell_type": "code",
      "source": [
        "import pandas as pd\n",
        "klg_data = pd.read_csv('/content/2022-GLOBAL-AI-CHALLENGE/knowledge_data.csv')\n",
        "klg_data"
      ],
      "metadata": {
        "id": "5zmqxSkgjwdC"
      },
      "execution_count": null,
      "outputs": []
    },
    {
      "cell_type": "code",
      "source": [
        "klg_data[klg_data.entity=='调王生']['knowledge'].values[0]"
      ],
      "metadata": {
        "id": "WjCuAYIlj9fQ"
      },
      "execution_count": null,
      "outputs": []
    },
    {
      "cell_type": "code",
      "source": [
        "from transformers import AutoTokenizer, AutoModelForSeq2SeqLM, pipeline\n",
        "\n",
        "tokenizer = AutoTokenizer.from_pretrained(\"Adapting/Knowledge-Driven-Dialogue\")\n",
        "model_5 = AutoModelForSeq2SeqLM.from_pretrained(\"Adapting/Knowledge-Driven-Dialogue\", revision = '5e2267251ec1555e81f9ed6f090e1f70355ff1c8')\n",
        "\n",
        "pipe_5 = pipeline('text2text-generation',tokenizer=tokenizer,model=model_5,device=0)\n",
        "pipe_truncate = pipeline('text2text-generation',tokenizer=tokenizer,model=model_5,device=0, truncation=True, max_length=1024)"
      ],
      "metadata": {
        "id": "RSItfz3zlV2i"
      },
      "execution_count": null,
      "outputs": []
    },
    {
      "cell_type": "code",
      "source": [
        "ALL_ENEITIES = list(klg_data['entity'].values)\n",
        "ALL_ENEITIES"
      ],
      "metadata": {
        "id": "WRm64YATnA-8"
      },
      "execution_count": null,
      "outputs": []
    },
    {
      "cell_type": "code",
      "source": [
        "for i in ALL_ENEITIES:\n",
        "    if not isinstance(i,str):\n",
        "        print(i)\n",
        "        print(type(i))"
      ],
      "metadata": {
        "id": "ZPG9SxiHn7d6"
      },
      "execution_count": null,
      "outputs": []
    },
    {
      "cell_type": "code",
      "source": [
        "def entity_detection(usr):\n",
        "    detected_ent = []\n",
        "    for ent in ALL_ENEITIES:\n",
        "        if len(str(ent)) <= 1:\n",
        "            continue\n",
        "        if str(ent) in usr:\n",
        "            detected_ent.append(ent)\n",
        "    return detected_ent"
      ],
      "metadata": {
        "id": "Acsgaih1mkWI"
      },
      "execution_count": null,
      "outputs": []
    },
    {
      "cell_type": "code",
      "source": [
        "entity_detection('你知道上元日吗')"
      ],
      "metadata": {
        "id": "y4Dam9C4nWTJ"
      },
      "execution_count": null,
      "outputs": []
    },
    {
      "cell_type": "markdown",
      "source": [
        "# Iteration"
      ],
      "metadata": {
        "id": "lo5ATMOLQt3f"
      }
    },
    {
      "cell_type": "code",
      "source": [
        "result = dict()\n",
        "for i in range(400):\n",
        "    # 第i个样本\n",
        "    sample = data[f'{i+1}'] # list of dicts\n",
        "    chat_history = ''\n",
        "    for j in range(0,len(sample)-1,2):\n",
        "        last_usr_uttr = sample[j]['message']\n",
        "        last_sys_uttr = sample[j+1]['message']\n",
        "        chat_history += f'[usr] {last_usr_uttr} [sys] {last_sys_uttr} '\n",
        "\n",
        "    last_usr_uttr = sample[-1]['message']\n",
        "    chat_history += f'[usr] {last_usr_uttr}'\n",
        "\n",
        "    entity = entity_detection(sample[0]['message'])\n",
        "    if len(entity)> 1:\n",
        "        # print(i)\n",
        "        # print(entity)\n",
        "        knowledge = klg_data[klg_data.entity==max(entity,key=len)]['knowledge'].values[0]\n",
        "    if len(entity)> 0:\n",
        "        knowledge = klg_data[klg_data.entity==entity[0]]['knowledge'].values[0]\n",
        "    else:\n",
        "        knowledge = ''\n",
        "    \n",
        "    input = f'[klg] {knowledge} {chat_history}'\n",
        "    if len(input)<1440:\n",
        "        response = pipe_5(input)[0]['generated_text'].replace(' ','')\n",
        "    else:\n",
        "        response = pipe_truncate(input)[0]['generated_text'].replace(' ','')\n",
        "    \n",
        "    print(f'''{i+1}:\n",
        "    input: {input}\n",
        "    response: {response}\n",
        "    ------------------------------------------------------------------------------------------\n",
        "    ''')\n",
        "\n",
        "    if len(entity) == 0:\n",
        "        result[f'{i+1}'] = {\n",
        "            'message': response\n",
        "        }\n",
        "\n",
        "    else:\n",
        "        result[f'{i+1}'] = {\n",
        "             'message': response,\n",
        "             \"attrs\":[\n",
        "                 {\"attrname\":\"None\",\n",
        "                \"attrvalue\":\"None\",\n",
        "                \"name\":max(entity,key=len)}\n",
        "             ]\n",
        "        }\n"
      ],
      "metadata": {
        "id": "9q-qbLzvQruW"
      },
      "execution_count": null,
      "outputs": []
    },
    {
      "cell_type": "code",
      "source": [
        "import json\n",
        "with open('result.json', 'w', encoding='utf8') as fp:\n",
        "    json.dump(result, fp,ensure_ascii=False)"
      ],
      "metadata": {
        "id": "RwvQyE33q2yr"
      },
      "execution_count": null,
      "outputs": []
    }
  ]
}