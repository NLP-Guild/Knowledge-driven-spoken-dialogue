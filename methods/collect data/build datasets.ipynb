{
 "cells": [
  {
   "cell_type": "markdown",
   "metadata": {
    "colab_type": "text",
    "id": "view-in-github"
   },
   "source": [
    "<a href=\"https://colab.research.google.com/github/leoxiang66/Knowledge-driven-spoken-dialogue/blob/main/%E8%8E%B7%E5%BE%97%E5%AF%B9%E8%AF%9D%E7%9A%84%E8%AE%AD%E7%BB%83%E6%95%B0%E6%8D%AE.ipynb\" target=\"_parent\"><img src=\"https://colab.research.google.com/assets/colab-badge.svg\" alt=\"Open In Colab\"/></a>"
   ]
  },
  {
   "cell_type": "code",
   "execution_count": null,
   "metadata": {},
   "outputs": [],
   "source": [
    "!pip install transformers datasets"
   ]
  },
  {
   "cell_type": "code",
   "execution_count": 2,
   "metadata": {
    "colab": {
     "base_uri": "https://localhost:8080/"
    },
    "id": "MskD9uXNXcHW",
    "outputId": "608c75f7-e8fb-4d38-9ea1-e9e7f46330d2"
   },
   "outputs": [
    {
     "name": "stdout",
     "output_type": "stream",
     "text": [
      "Error: Failed to call git rev-parse --git-dir --show-toplevel: \"fatal: not a git repository (or any of the parent directories): .git\\n\"\n",
      "Git LFS initialized.\n",
      "Cloning into '2022-GLOBAL-AI-CHALLENGE'...\n",
      "remote: Enumerating objects: 29, done.\u001b[K\n",
      "remote: Counting objects: 100% (29/29), done.\u001b[K\n",
      "remote: Compressing objects: 100% (28/28), done.\u001b[K\n",
      "remote: Total 29 (delta 12), reused 0 (delta 0), pack-reused 0\u001b[K\n",
      "Unpacking objects: 100% (29/29), done.\n"
     ]
    }
   ],
   "source": [
    "!git lfs install\n",
    "!git clone https://huggingface.co/datasets/Adapting/2022-GLOBAL-AI-CHALLENGE"
   ]
  },
  {
   "cell_type": "code",
   "execution_count": 3,
   "metadata": {
    "colab": {
     "base_uri": "https://localhost:8080/"
    },
    "id": "Iord1wBUYMlD",
    "outputId": "95e76b97-056e-4f88-c182-93dc1f0c7721"
   },
   "outputs": [
    {
     "name": "stdout",
     "output_type": "stream",
     "text": [
      "kg.json  knowledge_data.csv  test.json  train.json  valid.json\n"
     ]
    }
   ],
   "source": [
    "%ls 2022-GLOBAL-AI*"
   ]
  },
  {
   "cell_type": "markdown",
   "metadata": {},
   "source": [
    "Load knowledge graph data"
   ]
  },
  {
   "cell_type": "code",
   "execution_count": 3,
   "metadata": {
    "id": "P6IGVF6d3dtB"
   },
   "outputs": [],
   "source": [
    "data_path = '2022-GLOBAL-AI-CHALLENGE'"
   ]
  },
  {
   "cell_type": "code",
   "execution_count": 4,
   "metadata": {
    "colab": {
     "base_uri": "https://localhost:8080/",
     "height": 423
    },
    "id": "KT06D8lYndD_",
    "outputId": "eaf644dd-7c81-487f-9808-57f7104775b2"
   },
   "outputs": [
    {
     "data": {
      "text/html": [
       "<div>\n",
       "<style scoped>\n",
       "    .dataframe tbody tr th:only-of-type {\n",
       "        vertical-align: middle;\n",
       "    }\n",
       "\n",
       "    .dataframe tbody tr th {\n",
       "        vertical-align: top;\n",
       "    }\n",
       "\n",
       "    .dataframe thead th {\n",
       "        text-align: right;\n",
       "    }\n",
       "</style>\n",
       "<table border=\"1\" class=\"dataframe\">\n",
       "  <thead>\n",
       "    <tr style=\"text-align: right;\">\n",
       "      <th></th>\n",
       "      <th>entity</th>\n",
       "      <th>knowledge</th>\n",
       "    </tr>\n",
       "  </thead>\n",
       "  <tbody>\n",
       "    <tr>\n",
       "      <th>0</th>\n",
       "      <td>调王生</td>\n",
       "      <td>[ett] 的时间是明朝。[ett] 的作者是袁凯。[ett] 的诗句是门外桃花落渐多，一双...</td>\n",
       "    </tr>\n",
       "    <tr>\n",
       "      <th>1</th>\n",
       "      <td>载伎重游王潭马砦岩</td>\n",
       "      <td>[ett] 的时间是明朝。[ett] 的作者是程嘉燧。[ett] 的诗句是疏松历落映层台，绿...</td>\n",
       "    </tr>\n",
       "    <tr>\n",
       "      <th>2</th>\n",
       "      <td>观军装十咏·马</td>\n",
       "      <td>[ett] 的时间是明朝。[ett] 的作者是高启。[ett] 的诗句是罗帕覆春风，连鞍赐有...</td>\n",
       "    </tr>\n",
       "    <tr>\n",
       "      <th>3</th>\n",
       "      <td>菩萨蛮 回文 中州乐府</td>\n",
       "      <td>[ett] 的时间是元朝。[ett] 的作者是孟宗献。[ett] 的诗句是睡惊秋近鸣虫砌。砌...</td>\n",
       "    </tr>\n",
       "    <tr>\n",
       "      <th>4</th>\n",
       "      <td>西江月·往事俄惊如梦</td>\n",
       "      <td>[ett] 的时间是元朝。[ett] 的作者是钱应庚。[ett] 的诗句是往事俄惊如梦，白头...</td>\n",
       "    </tr>\n",
       "    <tr>\n",
       "      <th>...</th>\n",
       "      <td>...</td>\n",
       "      <td>...</td>\n",
       "    </tr>\n",
       "    <tr>\n",
       "      <th>38049</th>\n",
       "      <td>贝恩·血蹄</td>\n",
       "      <td>[ett] 的亲属(先祖)是血蹄长者。[ett] 的亲属(母亲)是塔玛拉。[ett] 的亲属...</td>\n",
       "    </tr>\n",
       "    <tr>\n",
       "      <th>38050</th>\n",
       "      <td>怨恨回响</td>\n",
       "      <td>[ett] 的所在地是七星殿。[ett] 的种族是煞（元素生物）。[ett] 的等级是90。...</td>\n",
       "    </tr>\n",
       "    <tr>\n",
       "      <th>38051</th>\n",
       "      <td>伊芙·费德里克森</td>\n",
       "      <td>[ett] 的势力是提瑞斯法议会。[ett] 的头衔是提瑞斯法议会的回忆。[ett] 的对联...</td>\n",
       "    </tr>\n",
       "    <tr>\n",
       "      <th>38052</th>\n",
       "      <td>女伯爵莉亚德琳</td>\n",
       "      <td>[ett] 的亲属(养女)是萨兰蒂亚。[ett] 的亲属(导师/养父)是高阶牧师冯德洛尔。[...</td>\n",
       "    </tr>\n",
       "    <tr>\n",
       "      <th>38053</th>\n",
       "      <td>达瓦尔·普瑞斯托</td>\n",
       "      <td>[ett] 的亲属(distant cousin)是Aiden Perenolde。[ett...</td>\n",
       "    </tr>\n",
       "  </tbody>\n",
       "</table>\n",
       "<p>38054 rows × 2 columns</p>\n",
       "</div>"
      ],
      "text/plain": [
       "            entity                                          knowledge\n",
       "0              调王生  [ett] 的时间是明朝。[ett] 的作者是袁凯。[ett] 的诗句是门外桃花落渐多，一双...\n",
       "1        载伎重游王潭马砦岩  [ett] 的时间是明朝。[ett] 的作者是程嘉燧。[ett] 的诗句是疏松历落映层台，绿...\n",
       "2          观军装十咏·马  [ett] 的时间是明朝。[ett] 的作者是高启。[ett] 的诗句是罗帕覆春风，连鞍赐有...\n",
       "3      菩萨蛮 回文 中州乐府  [ett] 的时间是元朝。[ett] 的作者是孟宗献。[ett] 的诗句是睡惊秋近鸣虫砌。砌...\n",
       "4       西江月·往事俄惊如梦  [ett] 的时间是元朝。[ett] 的作者是钱应庚。[ett] 的诗句是往事俄惊如梦，白头...\n",
       "...            ...                                                ...\n",
       "38049        贝恩·血蹄  [ett] 的亲属(先祖)是血蹄长者。[ett] 的亲属(母亲)是塔玛拉。[ett] 的亲属...\n",
       "38050         怨恨回响  [ett] 的所在地是七星殿。[ett] 的种族是煞（元素生物）。[ett] 的等级是90。...\n",
       "38051     伊芙·费德里克森  [ett] 的势力是提瑞斯法议会。[ett] 的头衔是提瑞斯法议会的回忆。[ett] 的对联...\n",
       "38052      女伯爵莉亚德琳  [ett] 的亲属(养女)是萨兰蒂亚。[ett] 的亲属(导师/养父)是高阶牧师冯德洛尔。[...\n",
       "38053     达瓦尔·普瑞斯托  [ett] 的亲属(distant cousin)是Aiden Perenolde。[ett...\n",
       "\n",
       "[38054 rows x 2 columns]"
      ]
     },
     "execution_count": 4,
     "metadata": {},
     "output_type": "execute_result"
    }
   ],
   "source": [
    "import pandas as pd\n",
    "\n",
    "klg_data = pd.read_csv(f'{data_path}/knowledge_data.csv')\n",
    "klg_data"
   ]
  },
  {
   "cell_type": "markdown",
   "metadata": {},
   "source": [
    "Load train/valid set"
   ]
  },
  {
   "cell_type": "code",
   "execution_count": 5,
   "metadata": {
    "colab": {
     "base_uri": "https://localhost:8080/"
    },
    "id": "3xCllhe43kNm",
    "outputId": "4bc378f5-9fc1-4b88-e79e-e14993944ef7"
   },
   "outputs": [
    {
     "name": "stdout",
     "output_type": "stream",
     "text": [
      "<class 'list'>\n"
     ]
    }
   ],
   "source": [
    "import json\n",
    "with open(f'{data_path}/valid.json', encoding='utf-8') as f:\n",
    "    data = json.load(f)\n",
    "\n",
    "print(type(data))"
   ]
  },
  {
   "cell_type": "markdown",
   "metadata": {},
   "source": [
    "### Add entries to the original dataset"
   ]
  },
  {
   "cell_type": "code",
   "execution_count": 6,
   "metadata": {},
   "outputs": [
    {
     "data": {
      "text/html": [
       "<div>\n",
       "<style scoped>\n",
       "    .dataframe tbody tr th:only-of-type {\n",
       "        vertical-align: middle;\n",
       "    }\n",
       "\n",
       "    .dataframe tbody tr th {\n",
       "        vertical-align: top;\n",
       "    }\n",
       "\n",
       "    .dataframe thead th {\n",
       "        text-align: right;\n",
       "    }\n",
       "</style>\n",
       "<table border=\"1\" class=\"dataframe\">\n",
       "  <thead>\n",
       "    <tr style=\"text-align: right;\">\n",
       "      <th></th>\n",
       "      <th>chat_history</th>\n",
       "      <th>last_usr_uttr</th>\n",
       "      <th>entity</th>\n",
       "      <th>attrs</th>\n",
       "      <th>knowledge</th>\n",
       "      <th>knowledge_index</th>\n",
       "      <th>response</th>\n",
       "    </tr>\n",
       "  </thead>\n",
       "  <tbody>\n",
       "  </tbody>\n",
       "</table>\n",
       "</div>"
      ],
      "text/plain": [
       "Empty DataFrame\n",
       "Columns: [chat_history, last_usr_uttr, entity, attrs, knowledge, knowledge_index, response]\n",
       "Index: []"
      ]
     },
     "execution_count": 6,
     "metadata": {},
     "output_type": "execute_result"
    }
   ],
   "source": [
    "import pandas as pd\n",
    "df = pd.DataFrame(columns=['chat_history','last_usr_uttr','entity','attrs','knowledge','knowledge_index','response'])\n",
    "df"
   ]
  },
  {
   "cell_type": "code",
   "execution_count": 7,
   "metadata": {},
   "outputs": [],
   "source": [
    "def construct_entry(sample, i, chat_history, count):\n",
    "    last_usr_uttr = sample[i]['message']\n",
    "    chat_history.append(last_usr_uttr)\n",
    "    attrs = sample[i+1].get('attrs',None)\n",
    "    response = sample[i+1]['message']\n",
    "    if attrs is not None:\n",
    "        entity = attrs[-1]['name']\n",
    "        cond_match_entity = klg_data['entity']==entity\n",
    "        knowledge = klg_data.loc[cond_match_entity,'knowledge'].values[0]\n",
    "        knowledge_index = klg_data.index[cond_match_entity].tolist()[0]\n",
    "    else:\n",
    "        entity = None\n",
    "        knowledge = None\n",
    "        knowledge_index = None\n",
    "\n",
    "    df.loc[count,'chat_history'] = copy.deepcopy(chat_history)\n",
    "    df.loc[count,'attrs'] = attrs\n",
    "    df.loc[count,'response'] = response\n",
    "    df.loc[count,'last_usr_uttr'] = last_usr_uttr\n",
    "    df.loc[count,'entity'] = entity\n",
    "    df.loc[count,'knowledge'] = knowledge\n",
    "    df.loc[count,'knowledge_index'] = knowledge_index\n",
    "\n",
    "    chat_history.append(response)\n",
    "    count +=1\n",
    "    \n",
    "    return count, chat_history"
   ]
  },
  {
   "cell_type": "code",
   "execution_count": 8,
   "metadata": {
    "colab": {
     "base_uri": "https://localhost:8080/"
    },
    "id": "cBmSTwKC4hpO",
    "outputId": "ba10cd7e-ee57-4e27-aa4e-415f8986f9ad"
   },
   "outputs": [
    {
     "name": "stderr",
     "output_type": "stream",
     "text": [
      "100%|████████████████████████████████████████████████████████████████████████████████| 740/740 [00:17<00:00, 42.39it/s]\n"
     ]
    }
   ],
   "source": [
    "import copy\n",
    "from tqdm import tqdm\n",
    "count = 0\n",
    "\n",
    "for j in tqdm(range(len(data))):\n",
    "    sample = data[j]['messages']\n",
    "    chat_history = []\n",
    "\n",
    "    if len(sample)/2 == 0:\n",
    "        for i in range(0,len(sample),2):\n",
    "            count, chat_history = construct_entry(sample, i, chat_history, count)\n",
    "            \n",
    "    else:\n",
    "        for i in range(0,len(sample)-1,2):\n",
    "            count, chat_history = construct_entry(sample, i, chat_history, count)"
   ]
  },
  {
   "cell_type": "code",
   "execution_count": 9,
   "metadata": {
    "colab": {
     "base_uri": "https://localhost:8080/",
     "height": 641
    },
    "id": "jSS-V2cbDyaw",
    "outputId": "3dd863b8-3785-42d0-bc8e-a0bc9632e34c"
   },
   "outputs": [
    {
     "data": {
      "text/html": [
       "<div>\n",
       "<style scoped>\n",
       "    .dataframe tbody tr th:only-of-type {\n",
       "        vertical-align: middle;\n",
       "    }\n",
       "\n",
       "    .dataframe tbody tr th {\n",
       "        vertical-align: top;\n",
       "    }\n",
       "\n",
       "    .dataframe thead th {\n",
       "        text-align: right;\n",
       "    }\n",
       "</style>\n",
       "<table border=\"1\" class=\"dataframe\">\n",
       "  <thead>\n",
       "    <tr style=\"text-align: right;\">\n",
       "      <th></th>\n",
       "      <th>chat_history</th>\n",
       "      <th>last_usr_uttr</th>\n",
       "      <th>entity</th>\n",
       "      <th>attrs</th>\n",
       "      <th>knowledge</th>\n",
       "      <th>knowledge_index</th>\n",
       "      <th>response</th>\n",
       "    </tr>\n",
       "  </thead>\n",
       "  <tbody>\n",
       "    <tr>\n",
       "      <th>0</th>\n",
       "      <td>[你好，你知道中国科学院植物研究所北京植物园吗呀？]</td>\n",
       "      <td>你好，你知道中国科学院植物研究所北京植物园吗呀？</td>\n",
       "      <td>中国科学院植物研究所北京植物园</td>\n",
       "      <td>[{'attrname': 'Information', 'attrvalue': '中国科...</td>\n",
       "      <td>[ett] 的Information是中国科学院植物研究所北京植物园位于北京市海淀区香山南路...</td>\n",
       "      <td>36902</td>\n",
       "      <td>当然知道了，植物园包括树木园、宿根花卉园、月季园、牡丹园、本草园、紫薇园、野生果树资源区、珍...</td>\n",
       "    </tr>\n",
       "    <tr>\n",
       "      <th>1</th>\n",
       "      <td>[你好，你知道中国科学院植物研究所北京植物园吗呀？, 当然知道了，植物园包括树木园、宿根花卉...</td>\n",
       "      <td>啊，看来很不错啊啊，这里的门票多呢？</td>\n",
       "      <td>中国科学院植物研究所北京植物园</td>\n",
       "      <td>[{'attrname': '门票', 'attrvalue': '成人票10元。1.2米以...</td>\n",
       "      <td>[ett] 的Information是中国科学院植物研究所北京植物园位于北京市海淀区香山南路...</td>\n",
       "      <td>36902</td>\n",
       "      <td>成人票10元。1.2米以下儿童免票；大、中、小学生（不含成人教育）凭有效证件半价；老年人凭老...</td>\n",
       "    </tr>\n",
       "    <tr>\n",
       "      <th>2</th>\n",
       "      <td>[你好，你知道中国科学院植物研究所北京植物园吗呀？, 当然知道了，植物园包括树木园、宿根花卉...</td>\n",
       "      <td>开放时间是8:00-16:30，你知道具体地址吗？</td>\n",
       "      <td>中国科学院植物研究所北京植物园</td>\n",
       "      <td>[{'attrname': '地址', 'attrvalue': '北京市海淀区香山南辛村2...</td>\n",
       "      <td>[ett] 的Information是中国科学院植物研究所北京植物园位于北京市海淀区香山南路...</td>\n",
       "      <td>36902</td>\n",
       "      <td>地址是北京市海淀区香山南辛村20号 ‎，近北京植物园。</td>\n",
       "    </tr>\n",
       "    <tr>\n",
       "      <th>3</th>\n",
       "      <td>[你好，你知道中国科学院植物研究所北京植物园吗呀？, 当然知道了，植物园包括树木园、宿根花卉...</td>\n",
       "      <td>这里可以玩几个小时啊恩？</td>\n",
       "      <td>中国科学院植物研究所北京植物园</td>\n",
       "      <td>[{'attrname': '建议游玩时间', 'attrvalue': '1小时', 'n...</td>\n",
       "      <td>[ett] 的Information是中国科学院植物研究所北京植物园位于北京市海淀区香山南路...</td>\n",
       "      <td>36902</td>\n",
       "      <td>能玩1小时，他周边的景点也很不错的。</td>\n",
       "    </tr>\n",
       "    <tr>\n",
       "      <th>4</th>\n",
       "      <td>[你好，你知道中国科学院植物研究所北京植物园吗呀？, 当然知道了，植物园包括树木园、宿根花卉...</td>\n",
       "      <td>是，我想去旁边的香山公园玩玩。</td>\n",
       "      <td>香山公园</td>\n",
       "      <td>[{'attrname': '门票', 'attrvalue': '淡季（11月16日-3月...</td>\n",
       "      <td>[ett] 的周边景点是八处证果寺。[ett] 的门票是淡季（11月16日-3月31日）5元...</td>\n",
       "      <td>36529</td>\n",
       "      <td>香山公园票价不贵，淡季（11月16日-3月31日）5元，旺季（4月1日-11月15日）10元...</td>\n",
       "    </tr>\n",
       "    <tr>\n",
       "      <th>...</th>\n",
       "      <td>...</td>\n",
       "      <td>...</td>\n",
       "      <td>...</td>\n",
       "      <td>...</td>\n",
       "      <td>...</td>\n",
       "      <td>...</td>\n",
       "      <td>...</td>\n",
       "    </tr>\n",
       "    <tr>\n",
       "      <th>6558</th>\n",
       "      <td>[你好，你知道安不忘危这个成语吗呵？, 我了解过安不忘危这个成语，你想了解什么呢。, 那你能...</td>\n",
       "      <td>那你能说下安不忘危这个成语的含义嘛？</td>\n",
       "      <td>安不忘危</td>\n",
       "      <td>[{'attrname': '释义', 'attrvalue': '在安全的时候不忘记危难。...</td>\n",
       "      <td>[ett] 的中文是安不忘危。[ett] 的反义词是高枕无忧。[ett] 的近义词是居安思危...</td>\n",
       "      <td>25408</td>\n",
       "      <td>好的，安不忘危形容的是时刻谨慎小心，提高警惕。</td>\n",
       "    </tr>\n",
       "    <tr>\n",
       "      <th>6559</th>\n",
       "      <td>[你好，你知道安不忘危这个成语吗呵？, 我了解过安不忘危这个成语，你想了解什么呢。, 那你能...</td>\n",
       "      <td>这个成语我很中意，你能告诉安不忘。危的出处吗？</td>\n",
       "      <td>安不忘危</td>\n",
       "      <td>[{'attrname': '出处', 'attrvalue': '《周易·系辞下》是故君子...</td>\n",
       "      <td>[ett] 的中文是安不忘危。[ett] 的反义词是高枕无忧。[ett] 的近义词是居安思危...</td>\n",
       "      <td>25408</td>\n",
       "      <td>这个没问题，当然知道。安不忘危的出处是《周易·系辞下》。</td>\n",
       "    </tr>\n",
       "    <tr>\n",
       "      <th>6560</th>\n",
       "      <td>[你好，你知道安不忘危这个成语吗呵？, 我了解过安不忘危这个成语，你想了解什么呢。, 那你能...</td>\n",
       "      <td>你能用一个故事来说明一下安不忘危成语这个呀吗</td>\n",
       "      <td>安不忘危</td>\n",
       "      <td>[{'attrname': '故事', 'attrvalue': '我国最早的一部占卜书《周...</td>\n",
       "      <td>[ett] 的中文是安不忘危。[ett] 的反义词是高枕无忧。[ett] 的近义词是居安思危...</td>\n",
       "      <td>25408</td>\n",
       "      <td>可以的，我听过这个故事，安不忘危说的是我国最早的一部占卜书《周易》关于吉凶祸福有深刻的论述，...</td>\n",
       "    </tr>\n",
       "    <tr>\n",
       "      <th>6561</th>\n",
       "      <td>[你好，你知道安不忘危这个成语吗呵？, 我了解过安不忘危这个成语，你想了解什么呢。, 那你能...</td>\n",
       "      <td>安不忘危的拼音是。怎样的呢？</td>\n",
       "      <td>安不忘危</td>\n",
       "      <td>[{'attrname': '拼音', 'attrvalue': 'ān bù wàng w...</td>\n",
       "      <td>[ett] 的中文是安不忘危。[ett] 的反义词是高枕无忧。[ett] 的近义词是居安思危...</td>\n",
       "      <td>25408</td>\n",
       "      <td>很容易的一个拼音，我告诉你吧，安不忘危的拼音是: ān bù wàng wēi</td>\n",
       "    </tr>\n",
       "    <tr>\n",
       "      <th>6562</th>\n",
       "      <td>[你好，你知道安不忘危这个成语吗呵？, 我了解过安不忘危这个成语，你想了解什么呢。, 那你能...</td>\n",
       "      <td>你真厉害，那你知道和安不忘危意思相同的成语是什么吗？</td>\n",
       "      <td>安不忘危</td>\n",
       "      <td>[{'attrname': '近义词', 'attrvalue': '居安思危', 'nam...</td>\n",
       "      <td>[ett] 的中文是安不忘危。[ett] 的反义词是高枕无忧。[ett] 的近义词是居安思危...</td>\n",
       "      <td>25408</td>\n",
       "      <td>知道啊，安不忘危的近义词是居安思危。</td>\n",
       "    </tr>\n",
       "  </tbody>\n",
       "</table>\n",
       "<p>6563 rows × 7 columns</p>\n",
       "</div>"
      ],
      "text/plain": [
       "                                           chat_history  \\\n",
       "0                            [你好，你知道中国科学院植物研究所北京植物园吗呀？]   \n",
       "1     [你好，你知道中国科学院植物研究所北京植物园吗呀？, 当然知道了，植物园包括树木园、宿根花卉...   \n",
       "2     [你好，你知道中国科学院植物研究所北京植物园吗呀？, 当然知道了，植物园包括树木园、宿根花卉...   \n",
       "3     [你好，你知道中国科学院植物研究所北京植物园吗呀？, 当然知道了，植物园包括树木园、宿根花卉...   \n",
       "4     [你好，你知道中国科学院植物研究所北京植物园吗呀？, 当然知道了，植物园包括树木园、宿根花卉...   \n",
       "...                                                 ...   \n",
       "6558  [你好，你知道安不忘危这个成语吗呵？, 我了解过安不忘危这个成语，你想了解什么呢。, 那你能...   \n",
       "6559  [你好，你知道安不忘危这个成语吗呵？, 我了解过安不忘危这个成语，你想了解什么呢。, 那你能...   \n",
       "6560  [你好，你知道安不忘危这个成语吗呵？, 我了解过安不忘危这个成语，你想了解什么呢。, 那你能...   \n",
       "6561  [你好，你知道安不忘危这个成语吗呵？, 我了解过安不忘危这个成语，你想了解什么呢。, 那你能...   \n",
       "6562  [你好，你知道安不忘危这个成语吗呵？, 我了解过安不忘危这个成语，你想了解什么呢。, 那你能...   \n",
       "\n",
       "                   last_usr_uttr           entity  \\\n",
       "0       你好，你知道中国科学院植物研究所北京植物园吗呀？  中国科学院植物研究所北京植物园   \n",
       "1             啊，看来很不错啊啊，这里的门票多呢？  中国科学院植物研究所北京植物园   \n",
       "2      开放时间是8:00-16:30，你知道具体地址吗？  中国科学院植物研究所北京植物园   \n",
       "3                   这里可以玩几个小时啊恩？  中国科学院植物研究所北京植物园   \n",
       "4                是，我想去旁边的香山公园玩玩。             香山公园   \n",
       "...                          ...              ...   \n",
       "6558          那你能说下安不忘危这个成语的含义嘛？             安不忘危   \n",
       "6559     这个成语我很中意，你能告诉安不忘。危的出处吗？             安不忘危   \n",
       "6560      你能用一个故事来说明一下安不忘危成语这个呀吗             安不忘危   \n",
       "6561              安不忘危的拼音是。怎样的呢？             安不忘危   \n",
       "6562  你真厉害，那你知道和安不忘危意思相同的成语是什么吗？             安不忘危   \n",
       "\n",
       "                                                  attrs  \\\n",
       "0     [{'attrname': 'Information', 'attrvalue': '中国科...   \n",
       "1     [{'attrname': '门票', 'attrvalue': '成人票10元。1.2米以...   \n",
       "2     [{'attrname': '地址', 'attrvalue': '北京市海淀区香山南辛村2...   \n",
       "3     [{'attrname': '建议游玩时间', 'attrvalue': '1小时', 'n...   \n",
       "4     [{'attrname': '门票', 'attrvalue': '淡季（11月16日-3月...   \n",
       "...                                                 ...   \n",
       "6558  [{'attrname': '释义', 'attrvalue': '在安全的时候不忘记危难。...   \n",
       "6559  [{'attrname': '出处', 'attrvalue': '《周易·系辞下》是故君子...   \n",
       "6560  [{'attrname': '故事', 'attrvalue': '我国最早的一部占卜书《周...   \n",
       "6561  [{'attrname': '拼音', 'attrvalue': 'ān bù wàng w...   \n",
       "6562  [{'attrname': '近义词', 'attrvalue': '居安思危', 'nam...   \n",
       "\n",
       "                                              knowledge knowledge_index  \\\n",
       "0     [ett] 的Information是中国科学院植物研究所北京植物园位于北京市海淀区香山南路...           36902   \n",
       "1     [ett] 的Information是中国科学院植物研究所北京植物园位于北京市海淀区香山南路...           36902   \n",
       "2     [ett] 的Information是中国科学院植物研究所北京植物园位于北京市海淀区香山南路...           36902   \n",
       "3     [ett] 的Information是中国科学院植物研究所北京植物园位于北京市海淀区香山南路...           36902   \n",
       "4     [ett] 的周边景点是八处证果寺。[ett] 的门票是淡季（11月16日-3月31日）5元...           36529   \n",
       "...                                                 ...             ...   \n",
       "6558  [ett] 的中文是安不忘危。[ett] 的反义词是高枕无忧。[ett] 的近义词是居安思危...           25408   \n",
       "6559  [ett] 的中文是安不忘危。[ett] 的反义词是高枕无忧。[ett] 的近义词是居安思危...           25408   \n",
       "6560  [ett] 的中文是安不忘危。[ett] 的反义词是高枕无忧。[ett] 的近义词是居安思危...           25408   \n",
       "6561  [ett] 的中文是安不忘危。[ett] 的反义词是高枕无忧。[ett] 的近义词是居安思危...           25408   \n",
       "6562  [ett] 的中文是安不忘危。[ett] 的反义词是高枕无忧。[ett] 的近义词是居安思危...           25408   \n",
       "\n",
       "                                               response  \n",
       "0     当然知道了，植物园包括树木园、宿根花卉园、月季园、牡丹园、本草园、紫薇园、野生果树资源区、珍...  \n",
       "1     成人票10元。1.2米以下儿童免票；大、中、小学生（不含成人教育）凭有效证件半价；老年人凭老...  \n",
       "2                           地址是北京市海淀区香山南辛村20号 ‎，近北京植物园。  \n",
       "3                                    能玩1小时，他周边的景点也很不错的。  \n",
       "4     香山公园票价不贵，淡季（11月16日-3月31日）5元，旺季（4月1日-11月15日）10元...  \n",
       "...                                                 ...  \n",
       "6558                            好的，安不忘危形容的是时刻谨慎小心，提高警惕。  \n",
       "6559                       这个没问题，当然知道。安不忘危的出处是《周易·系辞下》。  \n",
       "6560  可以的，我听过这个故事，安不忘危说的是我国最早的一部占卜书《周易》关于吉凶祸福有深刻的论述，...  \n",
       "6561            很容易的一个拼音，我告诉你吧，安不忘危的拼音是: ān bù wàng wēi  \n",
       "6562                                 知道啊，安不忘危的近义词是居安思危。  \n",
       "\n",
       "[6563 rows x 7 columns]"
      ]
     },
     "execution_count": 9,
     "metadata": {},
     "output_type": "execute_result"
    }
   ],
   "source": [
    "df"
   ]
  },
  {
   "cell_type": "code",
   "execution_count": 10,
   "metadata": {
    "id": "Zs5755QYFRsM"
   },
   "outputs": [],
   "source": [
    "df.to_csv(f'{data_path}/valid.csv', index=False)"
   ]
  }
 ],
 "metadata": {
  "accelerator": "GPU",
  "colab": {
   "include_colab_link": true,
   "machine_shape": "hm",
   "name": "获得对话的训练数据",
   "provenance": []
  },
  "gpuClass": "standard",
  "kernelspec": {
   "display_name": "Python 3 (ipykernel)",
   "language": "python",
   "name": "python3"
  },
  "language_info": {
   "codemirror_mode": {
    "name": "ipython",
    "version": 3
   },
   "file_extension": ".py",
   "mimetype": "text/x-python",
   "name": "python",
   "nbconvert_exporter": "python",
   "pygments_lexer": "ipython3",
   "version": "3.9.7"
  }
 },
 "nbformat": 4,
 "nbformat_minor": 1
}
