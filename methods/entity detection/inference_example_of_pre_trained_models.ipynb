{
  "nbformat": 4,
  "nbformat_minor": 0,
  "metadata": {
    "colab": {
      "provenance": [],
      "authorship_tag": "ABX9TyMxsLEfAfch/M9wkhuPxfO+",
      "include_colab_link": true
    },
    "kernelspec": {
      "name": "python3",
      "display_name": "Python 3"
    },
    "language_info": {
      "name": "python"
    }
  },
  "cells": [
    {
      "cell_type": "markdown",
      "metadata": {
        "id": "view-in-github",
        "colab_type": "text"
      },
      "source": [
        "<a href=\"https://colab.research.google.com/github/leoxiang66/Knowledge-driven-spoken-dialogue/blob/main/methods/entity%20detection/inference_example_of_pre_trained_models.ipynb\" target=\"_parent\"><img src=\"https://colab.research.google.com/assets/colab-badge.svg\" alt=\"Open In Colab\"/></a>"
      ]
    },
    {
      "cell_type": "code",
      "execution_count": 22,
      "metadata": {
        "id": "H4wfm-j4cxLx"
      },
      "outputs": [],
      "source": [
        "import json\n",
        "import requests\n",
        "\n",
        "api_token= 'get ur token at huggingface.co/settings/tokens\n",
        "API_URL = \"https://api-inference.huggingface.co/models/symanto/sn-xlm-roberta-base-snli-mnli-anli-xnli\"\n",
        "headers = {\"Authorization\": f\"Bearer {api_token}\"}\n",
        "\n",
        "\n",
        "\n",
        "def query(payload):\n",
        "    response = requests.post(API_URL, headers=headers, json=payload)\n",
        "    return response.json()\n"
      ]
    },
    {
      "cell_type": "code",
      "source": [
        "data = query(\n",
        "    {\n",
        "        \"inputs\": {\n",
        "            \"source_sentence\": \"你知道调王生是谁写的吗\",\n",
        "            \"sentences\": [\n",
        "                \"调王生的时间是明朝\",\n",
        "                \"调王生的作者是袁凯\",\n",
        "                '''调王生的诗句是\"门外桃花落渐多，一双新燕又来过。寄语城东王贡士，今年春酒味如何？\"'''\n",
        "            ]\n",
        "        }\n",
        "    }\n",
        ")\n",
        "\n",
        "data"
      ],
      "metadata": {
        "colab": {
          "base_uri": "https://localhost:8080/"
        },
        "id": "fzQNrgPbdaYr",
        "outputId": "fb816711-786d-43c0-d360-08bc6b3a8b9f"
      },
      "execution_count": 25,
      "outputs": [
        {
          "output_type": "execute_result",
          "data": {
            "text/plain": [
              "[0.275684654712677, 0.4468817114830017, 0.24156567454338074]"
            ]
          },
          "metadata": {},
          "execution_count": 25
        }
      ]
    }
  ]
}
