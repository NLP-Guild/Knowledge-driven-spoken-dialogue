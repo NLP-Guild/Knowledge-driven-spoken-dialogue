{
  "nbformat": 4,
  "nbformat_minor": 0,
  "metadata": {
    "colab": {
      "name": "dialogue agent.ipynb",
      "provenance": [],
      "machine_shape": "hm",
      "include_colab_link": true
    },
    "kernelspec": {
      "name": "python3",
      "display_name": "Python 3"
    },
    "language_info": {
      "name": "python"
    },
    "accelerator": "GPU",
    "gpuClass": "standard"
  },
  "cells": [
    {
      "cell_type": "markdown",
      "metadata": {
        "id": "view-in-github",
        "colab_type": "text"
      },
      "source": [
        "<a href=\"https://colab.research.google.com/github/leoxiang66/Knowledge-driven-spoken-dialogue/blob/main/init.ipynb\" target=\"_parent\"><img src=\"https://colab.research.google.com/assets/colab-badge.svg\" alt=\"Open In Colab\"/></a>"
      ]
    },
    {
      "cell_type": "code",
      "execution_count": 1,
      "metadata": {
        "colab": {
          "base_uri": "https://localhost:8080/"
        },
        "id": "vaEHsty71Gxw",
        "outputId": "83b850bc-1ae3-4a63-8bb6-7e0161ddd1f0"
      },
      "outputs": [
        {
          "output_type": "stream",
          "name": "stdout",
          "text": [
            "Mounted at /content/drive\n"
          ]
        }
      ],
      "source": [
        "from google.colab import drive\n",
        "drive.mount('/content/drive')"
      ]
    },
    {
      "cell_type": "code",
      "source": [
        "%cd /content/drive/MyDrive/git/Knowledge-driven-spoken-dialogue/\n",
        "%ls"
      ],
      "metadata": {
        "colab": {
          "base_uri": "https://localhost:8080/"
        },
        "id": "xFlmXnBZ_koe",
        "outputId": "9daa8261-8491-4d55-a995-f76b05833d7c"
      },
      "execution_count": 6,
      "outputs": [
        {
          "output_type": "stream",
          "name": "stdout",
          "text": [
            "/content/drive/MyDrive/git/Knowledge-driven-spoken-dialogue\n",
            "init.ipynb  \u001b[0m\u001b[01;34mresult\u001b[0m/\n"
          ]
        }
      ]
    },
    {
      "cell_type": "code",
      "source": [
        "!pip install transformers datasets"
      ],
      "metadata": {
        "colab": {
          "base_uri": "https://localhost:8080/"
        },
        "id": "rwlCjyqUXFwQ",
        "outputId": "ec6516cd-1306-4652-abd4-acd6fcedc8e2"
      },
      "execution_count": 7,
      "outputs": [
        {
          "output_type": "stream",
          "name": "stdout",
          "text": [
            "Looking in indexes: https://pypi.org/simple, https://us-python.pkg.dev/colab-wheels/public/simple/\n",
            "Collecting transformers\n",
            "  Downloading transformers-4.21.1-py3-none-any.whl (4.7 MB)\n",
            "\u001b[K     |████████████████████████████████| 4.7 MB 7.0 MB/s \n",
            "\u001b[?25hCollecting datasets\n",
            "  Downloading datasets-2.4.0-py3-none-any.whl (365 kB)\n",
            "\u001b[K     |████████████████████████████████| 365 kB 60.5 MB/s \n",
            "\u001b[?25hCollecting huggingface-hub<1.0,>=0.1.0\n",
            "  Downloading huggingface_hub-0.8.1-py3-none-any.whl (101 kB)\n",
            "\u001b[K     |████████████████████████████████| 101 kB 11.6 MB/s \n",
            "\u001b[?25hRequirement already satisfied: numpy>=1.17 in /usr/local/lib/python3.7/dist-packages (from transformers) (1.21.6)\n",
            "Requirement already satisfied: importlib-metadata in /usr/local/lib/python3.7/dist-packages (from transformers) (4.12.0)\n",
            "Requirement already satisfied: requests in /usr/local/lib/python3.7/dist-packages (from transformers) (2.23.0)\n",
            "Requirement already satisfied: filelock in /usr/local/lib/python3.7/dist-packages (from transformers) (3.8.0)\n",
            "Collecting pyyaml>=5.1\n",
            "  Downloading PyYAML-6.0-cp37-cp37m-manylinux_2_5_x86_64.manylinux1_x86_64.manylinux_2_12_x86_64.manylinux2010_x86_64.whl (596 kB)\n",
            "\u001b[K     |████████████████████████████████| 596 kB 57.0 MB/s \n",
            "\u001b[?25hCollecting tokenizers!=0.11.3,<0.13,>=0.11.1\n",
            "  Downloading tokenizers-0.12.1-cp37-cp37m-manylinux_2_12_x86_64.manylinux2010_x86_64.whl (6.6 MB)\n",
            "\u001b[K     |████████████████████████████████| 6.6 MB 48.7 MB/s \n",
            "\u001b[?25hRequirement already satisfied: packaging>=20.0 in /usr/local/lib/python3.7/dist-packages (from transformers) (21.3)\n",
            "Requirement already satisfied: tqdm>=4.27 in /usr/local/lib/python3.7/dist-packages (from transformers) (4.64.0)\n",
            "Requirement already satisfied: regex!=2019.12.17 in /usr/local/lib/python3.7/dist-packages (from transformers) (2022.6.2)\n",
            "Requirement already satisfied: typing-extensions>=3.7.4.3 in /usr/local/lib/python3.7/dist-packages (from huggingface-hub<1.0,>=0.1.0->transformers) (4.1.1)\n",
            "Requirement already satisfied: pyparsing!=3.0.5,>=2.0.2 in /usr/local/lib/python3.7/dist-packages (from packaging>=20.0->transformers) (3.0.9)\n",
            "Requirement already satisfied: aiohttp in /usr/local/lib/python3.7/dist-packages (from datasets) (3.8.1)\n",
            "Collecting responses<0.19\n",
            "  Downloading responses-0.18.0-py3-none-any.whl (38 kB)\n",
            "Requirement already satisfied: pandas in /usr/local/lib/python3.7/dist-packages (from datasets) (1.3.5)\n",
            "Collecting xxhash\n",
            "  Downloading xxhash-3.0.0-cp37-cp37m-manylinux_2_17_x86_64.manylinux2014_x86_64.whl (212 kB)\n",
            "\u001b[K     |████████████████████████████████| 212 kB 59.7 MB/s \n",
            "\u001b[?25hCollecting multiprocess\n",
            "  Downloading multiprocess-0.70.13-py37-none-any.whl (115 kB)\n",
            "\u001b[K     |████████████████████████████████| 115 kB 52.1 MB/s \n",
            "\u001b[?25hCollecting fsspec[http]>=2021.11.1\n",
            "  Downloading fsspec-2022.7.1-py3-none-any.whl (141 kB)\n",
            "\u001b[K     |████████████████████████████████| 141 kB 60.4 MB/s \n",
            "\u001b[?25hRequirement already satisfied: dill<0.3.6 in /usr/local/lib/python3.7/dist-packages (from datasets) (0.3.5.1)\n",
            "Requirement already satisfied: pyarrow>=6.0.0 in /usr/local/lib/python3.7/dist-packages (from datasets) (6.0.1)\n",
            "Requirement already satisfied: chardet<4,>=3.0.2 in /usr/local/lib/python3.7/dist-packages (from requests->transformers) (3.0.4)\n",
            "Requirement already satisfied: urllib3!=1.25.0,!=1.25.1,<1.26,>=1.21.1 in /usr/local/lib/python3.7/dist-packages (from requests->transformers) (1.24.3)\n",
            "Requirement already satisfied: idna<3,>=2.5 in /usr/local/lib/python3.7/dist-packages (from requests->transformers) (2.10)\n",
            "Requirement already satisfied: certifi>=2017.4.17 in /usr/local/lib/python3.7/dist-packages (from requests->transformers) (2022.6.15)\n",
            "Collecting urllib3!=1.25.0,!=1.25.1,<1.26,>=1.21.1\n",
            "  Downloading urllib3-1.25.11-py2.py3-none-any.whl (127 kB)\n",
            "\u001b[K     |████████████████████████████████| 127 kB 61.3 MB/s \n",
            "\u001b[?25hRequirement already satisfied: asynctest==0.13.0 in /usr/local/lib/python3.7/dist-packages (from aiohttp->datasets) (0.13.0)\n",
            "Requirement already satisfied: yarl<2.0,>=1.0 in /usr/local/lib/python3.7/dist-packages (from aiohttp->datasets) (1.8.1)\n",
            "Requirement already satisfied: charset-normalizer<3.0,>=2.0 in /usr/local/lib/python3.7/dist-packages (from aiohttp->datasets) (2.1.0)\n",
            "Requirement already satisfied: attrs>=17.3.0 in /usr/local/lib/python3.7/dist-packages (from aiohttp->datasets) (22.1.0)\n",
            "Requirement already satisfied: frozenlist>=1.1.1 in /usr/local/lib/python3.7/dist-packages (from aiohttp->datasets) (1.3.1)\n",
            "Requirement already satisfied: async-timeout<5.0,>=4.0.0a3 in /usr/local/lib/python3.7/dist-packages (from aiohttp->datasets) (4.0.2)\n",
            "Requirement already satisfied: aiosignal>=1.1.2 in /usr/local/lib/python3.7/dist-packages (from aiohttp->datasets) (1.2.0)\n",
            "Requirement already satisfied: multidict<7.0,>=4.5 in /usr/local/lib/python3.7/dist-packages (from aiohttp->datasets) (6.0.2)\n",
            "Requirement already satisfied: zipp>=0.5 in /usr/local/lib/python3.7/dist-packages (from importlib-metadata->transformers) (3.8.1)\n",
            "Requirement already satisfied: pytz>=2017.3 in /usr/local/lib/python3.7/dist-packages (from pandas->datasets) (2022.1)\n",
            "Requirement already satisfied: python-dateutil>=2.7.3 in /usr/local/lib/python3.7/dist-packages (from pandas->datasets) (2.8.2)\n",
            "Requirement already satisfied: six>=1.5 in /usr/local/lib/python3.7/dist-packages (from python-dateutil>=2.7.3->pandas->datasets) (1.15.0)\n",
            "Installing collected packages: urllib3, pyyaml, fsspec, xxhash, tokenizers, responses, multiprocess, huggingface-hub, transformers, datasets\n",
            "  Attempting uninstall: urllib3\n",
            "    Found existing installation: urllib3 1.24.3\n",
            "    Uninstalling urllib3-1.24.3:\n",
            "      Successfully uninstalled urllib3-1.24.3\n",
            "  Attempting uninstall: pyyaml\n",
            "    Found existing installation: PyYAML 3.13\n",
            "    Uninstalling PyYAML-3.13:\n",
            "      Successfully uninstalled PyYAML-3.13\n",
            "Successfully installed datasets-2.4.0 fsspec-2022.7.1 huggingface-hub-0.8.1 multiprocess-0.70.13 pyyaml-6.0 responses-0.18.0 tokenizers-0.12.1 transformers-4.21.1 urllib3-1.25.11 xxhash-3.0.0\n"
          ]
        }
      ]
    },
    {
      "cell_type": "code",
      "source": [
        "!git lfs install\n",
        "!git clone https://huggingface.co/datasets/Adapting/2022-GLOBAL-AI-CHALLENGE"
      ],
      "metadata": {
        "colab": {
          "base_uri": "https://localhost:8080/"
        },
        "id": "MskD9uXNXcHW",
        "outputId": "40ec3a8d-6a88-470e-894c-2e567ccc0870"
      },
      "execution_count": 9,
      "outputs": [
        {
          "output_type": "stream",
          "name": "stdout",
          "text": [
            "Updated git hooks.\n",
            "Git LFS initialized.\n",
            "fatal: destination path '2022-GLOBAL-AI-CHALLENGE' already exists and is not an empty directory.\n"
          ]
        }
      ]
    },
    {
      "cell_type": "code",
      "source": [
        "%ls 2022-GLOBAL-AI*"
      ],
      "metadata": {
        "colab": {
          "base_uri": "https://localhost:8080/"
        },
        "id": "Iord1wBUYMlD",
        "outputId": "f154c924-2ef0-42d8-bb35-dadf6d9af81e"
      },
      "execution_count": 11,
      "outputs": [
        {
          "output_type": "stream",
          "name": "stdout",
          "text": [
            "kg.json  test.json  train.json  valid.json\n"
          ]
        }
      ]
    },
    {
      "cell_type": "code",
      "source": [
        "data_path = '2022-GLOBAL-AI-CHALLENGE'"
      ],
      "metadata": {
        "id": "P6IGVF6d3dtB"
      },
      "execution_count": 12,
      "outputs": []
    },
    {
      "cell_type": "code",
      "source": [
        "import json\n",
        "with open(f'{data_path}/kg.json', 'r') as f:\n",
        "  data = json.load(f)\n",
        "\n",
        "print(type(data))"
      ],
      "metadata": {
        "id": "3xCllhe43kNm",
        "outputId": "f16b6f98-6285-48cd-f4c3-e50688fda9aa",
        "colab": {
          "base_uri": "https://localhost:8080/"
        }
      },
      "execution_count": 20,
      "outputs": [
        {
          "output_type": "stream",
          "name": "stdout",
          "text": [
            "<class 'dict'>\n"
          ]
        }
      ]
    },
    {
      "cell_type": "code",
      "source": [
        "data = list(data.items())"
      ],
      "metadata": {
        "id": "kPVwEaJh4Bc-"
      },
      "execution_count": 21,
      "outputs": []
    },
    {
      "cell_type": "code",
      "source": [
        "for i in range(10):\n",
        "    print(data[i])\n",
        "    print()"
      ],
      "metadata": {
        "id": "cBmSTwKC4hpO",
        "outputId": "4fa31d7b-22af-40d9-86a4-d8342bc2f9e6",
        "colab": {
          "base_uri": "https://localhost:8080/"
        }
      },
      "execution_count": 22,
      "outputs": [
        {
          "output_type": "stream",
          "name": "stdout",
          "text": [
            "('调王生', [['调王生', '时间', '明朝'], ['调王生', '作者', '袁凯'], ['调王生', '诗句', '门外桃花落渐多，一双新燕又来过。寄语城东王贡士，今年春酒味如何？']])\n",
            "\n",
            "('载伎重游王潭马砦岩', [['载伎重游王潭马砦岩', '时间', '明朝'], ['载伎重游王潭马砦岩', '作者', '程嘉燧'], ['载伎重游王潭马砦岩', '诗句', '疏松历落映层台，绿字岩间覆锦苔。谁扫青天屏障出，独摇红粉酒船来。歌移滩下凉风入，诗借峰头暮雨催。此日川光容易夕，相呼秉烛莫言回。']])\n",
            "\n",
            "('观军装十咏·马', [['观军装十咏·马', '时间', '明朝'], ['观军装十咏·马', '作者', '高启'], ['观军装十咏·马', '诗句', '罗帕覆春风，连鞍赐有功。蹄高骑得称，身出万军中。']])\n",
            "\n",
            "('菩萨蛮 回文 中州乐府', [['菩萨蛮 回文 中州乐府', '时间', '元朝'], ['菩萨蛮 回文 中州乐府', '作者', '孟宗献'], ['菩萨蛮 回文 中州乐府', '诗句', '睡惊秋近鸣虫砌。砌虫鸣近秋惊睡。苍鬓掺匀霜。霜匀掺鬓苍。影孤灯翳冷。冷翳灯孤影。长叹浩歌狂。狂歌浩叹长。']])\n",
            "\n",
            "('西江月·往事俄惊如梦', [['西江月·往事俄惊如梦', '时间', '元朝'], ['西江月·往事俄惊如梦', '作者', '钱应庚'], ['西江月·往事俄惊如梦', '诗句', '往事俄惊如梦，白头追感前时。半生辛苦为吟诗。词笔轮君工致。世变俱成老大，年来更觉衰迟。通家欲结岁寒期。未必天工无意。']])\n",
            "\n",
            "('送刘仲脩', [['送刘仲脩', '时间', '明朝'], ['送刘仲脩', '作者', '戴良'], ['送刘仲脩', '诗句', '名都郁佳丽，公室兼弘敞。缤纷集时彦，衮衮归世网。若人固忠勤，受命逾震荡。藩国简车徒，边亭巡境壤。道途邈以敻，山川修且广。月宵抱影息，霜晨流念往。仰看零露团，俯听悲风响。景物劳梦思，驱驰罢心赏。去水无回波，长途有徂鞅。临分恨莫留，搔首独长想。']])\n",
            "\n",
            "('出塞', [['出塞', '朝代', '唐代'], ['出塞', '作者', '王昌龄'], ['出塞', '诗词全文', '秦时明月汉时关，万里长征人未还。但使龙城飞将在，不教胡马度阴山。'], ['出塞', '中心思想', '此诗内容主要是慨叹远征之苦,良将之苦,体现出了诗人对家国的爱重和维护、对战争胜利的渴望与期盼以及对良将的信心。'], ['边关之苦', '题材', '白雪歌送武判官归京'], ['边关之苦', '题材', '凉州词'], ['边关之苦', '题材', '使至塞上'], ['边关之苦', '题材', '兵车行']])\n",
            "\n",
            "('送蒋宗谊推官之金华', [['送蒋宗谊推官之金华', '时间', '明朝'], ['送蒋宗谊推官之金华', '作者', '李东阳'], ['送蒋宗谊推官之金华', '诗句', '北来南去几星霜，又见分符出帝乡。三入越山身更远，重游京国梦难忘。也知吏法兼诗老，未必才名与命妨。台省只今须俊杰，看骑骢马问豺狼。']])\n",
            "\n",
            "('沁园春 赠郑伯洪 强村丛书用大典药房樵唱本', [['沁园春 赠郑伯洪 强村丛书用大典药房樵唱本', '时间', '元朝'], ['沁园春 赠郑伯洪 强村丛书用大典药房樵唱本', '作者', '吴景奎'], ['沁园春 赠郑伯洪 强村丛书用大典药房樵唱本', '诗句', '谷□仙田，瑶草谁栽，山中子真。向紫霞洞里，凿开丹室，素华台上，瞻望飙轮。王子吹笙，洪崖握手，烂醉桃花万树春。都休问、蓬莱清浅，天地氤氲。有时澡雪精神。诵蕊笈丹书小篆文。更佩联明月，韧寒秋水，或笞鸾凤，或医麒麟。碧落空歌，紫虚郁秀，径挟飞仙拜玉宸。天门近，听履声直上，高步星辰。']])\n",
            "\n",
            "('楚妃叹（《楚妃叹》亦刺奇后也）', [['楚妃叹（《楚妃叹》亦刺奇后也）', '时间', '明朝'], ['楚妃叹（《楚妃叹》亦刺奇后也）', '作者', '刘基'], ['楚妃叹（《楚妃叹》亦刺奇后也）', '诗句', '江汉扬波六千里，上有巫山矗天起。锦衾一夕梦行云，万户千门冷如水。闻道秦兵下武关，君王留连犹未还。山深不见章台殿，汨罗冤泪空潺湲。尚忆前王好驰逐，宫中美人不食肉。回狂作哲须臾间，至今相业归孙叔。楚宫无复如昔人，况有神女如花新。悲来恨新还忆故，谁能断却巫山路？']])\n",
            "\n"
          ]
        }
      ]
    },
    {
      "cell_type": "code",
      "source": [
        "%rm -rf 2022-GLOBAL-AI-CHALLENGE"
      ],
      "metadata": {
        "id": "A2Dwbsjy4Qai"
      },
      "execution_count": null,
      "outputs": []
    }
  ]
}